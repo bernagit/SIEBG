{
 "cells": [
  {
   "cell_type": "markdown",
   "metadata": {},
   "source": [
    "# Setup"
   ]
  },
  {
   "cell_type": "code",
   "execution_count": 2,
   "metadata": {},
   "outputs": [],
   "source": [
    "from neo4j import GraphDatabase\n",
    "import json\n",
    "import pandas as pd\n",
    "\n",
    "with open('config.json') as f:\n",
    "\tconfig = json.load(f)\n",
    "\n",
    "\turi = config['uri']\n",
    "\tusername = config['username']\n",
    "\tpassword = config['password']\n",
    "\n",
    "driver = GraphDatabase.driver(uri, auth=(username, password))\n"
   ]
  },
  {
   "cell_type": "markdown",
   "metadata": {},
   "source": [
    "# Import Data"
   ]
  },
  {
   "cell_type": "code",
   "execution_count": null,
   "metadata": {},
   "outputs": [],
   "source": [
    "# read data from csv\n",
    "df = pd.read_csv('netflix.csv')\n",
    "\n",
    "# data of type: show_id,type,title,director,cast,country,date_added,release_year,rating,duration,genres,description\n",
    "\n",
    "# Descrizione del compito - Scaricare il dataset e, utilizzando Python e Cypher, creare un nuovo\n",
    "# database in Neo4j (suggerimento – utilizzare i DataFrame come primo step per caricare i film in\n",
    "# Python):\n",
    "\n",
    "# creare un nuovo nodo Movie per ogni film, con il proprio ID, il titolo, la data di aggiunta\n",
    "# nel dataset, l’anno di rilascio, il rating, la durata (in minuti), la descrizione;\n",
    "\n",
    "# creare un nuovo nodo SerieTV per ogni serie TV, con il proprio ID, il titolo, la data di\n",
    "# aggiunta nel dataset, l’anno di rilascio, il rating, la durata (in stagioni), la descrizione;\n",
    "\n",
    "# creare un nuovo nodo Person per ogni regista e ogni elemento del cast (eliminando i\n",
    "# doppioni), ciascuno con il proprio nome;\n",
    "\n",
    "# collegare i film e le serie TV alle persone del cast tramite la relazione :ACTED_IN;\n",
    "\n",
    "# collegare i film e le serie TV alla persona che funge da regista tramite la relazione :DIRECTED;\n",
    "\n",
    "# creare un nuovo nodo Categoria per ogni genere e collegare i film e le serie TV alla\n",
    "# categoria tramite una relazione :IN_CATEGORY;\n",
    "\n",
    "# creare un nuovo nodo Country per ogni nazione di produzione e collegare i film e le serie\n",
    "# TV alla nazione di produzione tramite una relazione :WHERE\n",
    "\n"
   ]
  },
  {
   "cell_type": "code",
   "execution_count": null,
   "metadata": {},
   "outputs": [],
   "source": []
  }
 ],
 "metadata": {
  "kernelspec": {
   "display_name": ".venv",
   "language": "python",
   "name": "python3"
  },
  "language_info": {
   "codemirror_mode": {
    "name": "ipython",
    "version": 3
   },
   "file_extension": ".py",
   "mimetype": "text/x-python",
   "name": "python",
   "nbconvert_exporter": "python",
   "pygments_lexer": "ipython3",
   "version": "3.12.8"
  }
 },
 "nbformat": 4,
 "nbformat_minor": 2
}
